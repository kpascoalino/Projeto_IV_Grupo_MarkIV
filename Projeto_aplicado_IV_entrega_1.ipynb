{
  "nbformat": 4,
  "nbformat_minor": 0,
  "metadata": {
    "kernelspec": {
      "display_name": "Python 3",
      "language": "python",
      "name": "python3"
    },
    "language_info": {
      "codemirror_mode": {
        "name": "ipython",
        "version": 3
      },
      "file_extension": ".py",
      "mimetype": "text/x-python",
      "name": "python",
      "nbconvert_exporter": "python",
      "pygments_lexer": "ipython3",
      "version": "3.7.4"
    },
    "colab": {
      "provenance": [],
      "include_colab_link": true
    }
  },
  "cells": [
    {
      "cell_type": "markdown",
      "metadata": {
        "id": "view-in-github",
        "colab_type": "text"
      },
      "source": [
        "<a href=\"https://colab.research.google.com/github/kpascoalino/Projeto_IV_Grupo_MarkIV/blob/Dev/Projeto_aplicado_IV_entrega_1.ipynb\" target=\"_parent\"><img src=\"https://colab.research.google.com/assets/colab-badge.svg\" alt=\"Open In Colab\"/></a>"
      ]
    },
    {
      "cell_type": "markdown",
      "metadata": {
        "id": "80CF3Eq9EXDW"
      },
      "source": [
        "  <img src=\"https://github.com/Rogerio-mack/GCF/raw/main/GCF_files/Mackenzie.jpg\" width=\"25%\" align=\"right\"/>\n",
        "\n",
        "  # **PROJETO APLICADO IV - Entrega 1**\n",
        "  \n",
        "  <br>\n",
        "  <br>\n",
        "  \n"
      ]
    },
    {
      "cell_type": "markdown",
      "metadata": {
        "id": "40b90843"
      },
      "source": [
        "# **Detecção de instabilidades no processo de atendimento ao consumidor - Energisa Mato Grosso**\n",
        "---"
      ]
    },
    {
      "cell_type": "code",
      "metadata": {
        "id": "rYx9D4GZA5o9"
      },
      "source": [
        "#@title **Identificação do Grupo e Opção do Projeto**\n",
        "\n",
        "#@markdown Integrantes\n",
        "Aluno1 = 'Amanda Noronha Cohen, 10037290' #@param {type:\"string\"}\n",
        "Aluno2 = 'Kelly Cristina da Silva Pascoalino, 10369673' #@param {type:\"string\"}\n",
        "Aluno3 = 'Viviana Lima Iaconelli, ???' #@param {type:\"string\"}\n",
        "Aluno4 = 'Thiago Cerrato Mazza, 10369974' #@param {type:\"string\"}\n",
        "\n",
        "\n",
        "\n"
      ],
      "execution_count": null,
      "outputs": []
    },
    {
      "cell_type": "markdown",
      "source": [
        "# **Resumo**\n",
        "\n",
        "A Energisa é uma holding que atua no ramo de soluções energéticas. Uma das empresas do grupo é a Energisa Mato Grosso, uma instituição de grande porte, que, entre outras atividades, opera com a distribuição de energia em todo o estado. O gerenciamento de pessoas e processos, nas organizações, é bastante desafiador, sobretudo, para organizações de grande porte, como a Energisa Mato Grosso. O quadro pode se tornar ainda mais crítico quando deficiências nestes processos afetam diretamente a entrega de produtos e serviços para o consumidor final. Nestes casos, um dos meios oficiais mais comuns utilizados pelos consumidores para reclamarem seus direitos, é protocolar sua reclamação junto a Fundação de Proteção e Defesa do Consumidor (PROCON). Essa entidade, jurídica de direito público, existe em cada um dos estados brasileiros e tem por objetivo harmonizar as relações entre consumidores e fornecedores, elaborando e executando a política de proteção e defesa dos consumidores. Quando o consumidor registra uma reclamação perante ao PROCON, a entidade verifica a legitimidade das partes envolvidas, a existência da relação de consumo, entre outros aspectos simples, que indiquem que a reclamação possui propósito, não é descabida. Em caso de verificação positiva, a reclamação passa a ser considerada fundamentada, dando iníucio às atividades de intermediação entre as partes envolvidas, com foco na solução do problema. No setor energético, muitas variáveis, além daquelas que podem ser controladas no gerenciamento de pessoas e processos, podem afetar a prestação de serviços e, portanto, o consumidor final. A Energisa Mato Grosso, tem estado entre as empresas com mais reclamações fundamentadas registradas junto ao PROCON, em nível nacional, nos últimos dois anos . Com o objetivo de investigar e detectar anomalias no número de reclamações nos últimos cinco anos instanciados na base (2018 a 2022), na cidade de Cuiabá, e avaliar a relação com fenômenos metereológicos, tais como, precipitação e temperatura, além de índices econômicos, como a taxa selic, propõe-se este projeto."
      ],
      "metadata": {
        "id": "JlCIc2YooBW7"
      }
    },
    {
      "cell_type": "markdown",
      "metadata": {
        "id": "A4-f8AtfKAn2"
      },
      "source": [
        "# **Fonte dos Dados**\n",
        "\n",
        "Os dados referentes as reclamações fundamentadas registradas junto ao PROCON serão obtidos a partir da plataforma de dados aberrtos do governo federal: https://dados.gov.br/dados/conjuntos-dados/cadastro-nacional-de-reclamacoes-fundamentadas-procons-sindec1. Estes dados são disponibilizados pelo Ministério da Justiça e Segurança Pública sob a forma de conjuntos que apresentam, no formato texto delimitado, as características das reclamações fundamentadas, registradas junto ao PROCON, no período de 2009 a 20022.\n",
        "Os dados sobre temperatura serão obtidos junto ao Instituto Nacional de Meteorologia (INMET): https://portal.inmet.gov.br/dadoshistoricos. Os dados são disponibilizados em arquivos no formato texto delimitado e possuem alguns registros meteorológicos, tais como, temperatura e precipitação, para diversas cidades brasileiras.\n",
        "Os dados do valor da taxa selic serão obtidos junto ao Banco Central do Brasil: https://portal.inmet.gov.br/dadoshistoricos. Os dados são disponibilizados em diferentes formatos, entre eles, texto delimitado.\n",
        "\n",
        "\n"
      ]
    },
    {
      "cell_type": "markdown",
      "metadata": {
        "id": "kZ9OW5ExtM8G"
      },
      "source": [
        "# **Referências**\n",
        "\n",
        "ENERGISA. Disponível em: <https://www.grupoenergisa.com.br/institucional>. Acesso em: 5 març. 2024.\n",
        "\n",
        "PROCON. Disponível em: <https://www.procon.sp.gov.br/espaco-consumidor/#ReclamacoesFundamentadas>. Acesso em: 5 març. 2024.\n",
        "\n",
        "SANT'ANNA, T.M. Método para detecção e predição de anomalias em séries temporais multivariadas. Dissertação. 2021. Laboratório Nacional de Computação Científica, Rio de Janeiro, RJ. Disponível em: <https://bdtd.ibict.br/vufind/Record/LNCC_5b25ac3a9decfaf629b6f7e0a97f667f>. Acesso em: 5 març. 2024.\n",
        "\n",
        "ScikitLearn. Disponível em: <https://scikit-learn.org/stable/>.\n",
        "\n",
        "\n"
      ]
    },
    {
      "cell_type": "code",
      "metadata": {
        "id": "BluFtfHuCGzm",
        "cellView": "form"
      },
      "source": [
        "#@title **Avaliação**\n",
        "Relevancia = 10 #@param {type:\"slider\", min:0, max:10, step:1}\n",
        "\n",
        "Fonte_dos_dados = 6 #@param {type:\"slider\", min:0, max:10, step:1}\n",
        "\n",
        "Metodologia = 8 #@param {type:\"slider\", min:0, max:10, step:1}\n",
        "\n",
        "Referencias = 3 #@param {type:\"slider\", min:0, max:10, step:1}\n",
        "\n",
        "Apresentacao_geral = 7 #@param {type:\"slider\", min:0, max:10, step:1}\n",
        "\n",
        "\n",
        "\n",
        "\n",
        "\n",
        "\n"
      ],
      "execution_count": null,
      "outputs": []
    },
    {
      "cell_type": "code",
      "metadata": {
        "colab": {
          "base_uri": "https://localhost:8080/",
          "height": 277
        },
        "id": "2Gqw7hUZHyle",
        "cellView": "form",
        "outputId": "104c10d6-d75e-41cd-b3d1-90f9c87e5cbc"
      },
      "source": [
        "#@title **Nota Final**\n",
        "nota = 0.25*Relevancia + 0.25*Fonte_dos_dados + 0.25*Metodologia + 0.15*Referencias + 0.10*Apresentacao_geral\n",
        "\n",
        "print(f'Nota final do trabalho {nota :.1f}')\n",
        "\n",
        "import numpy as np\n",
        "import pandas as pd\n",
        "\n",
        "alunos = pd.DataFrame()\n",
        "\n",
        "lista_nome = []\n",
        "\n",
        "for i in range(1,6):\n",
        "  exec(\"if Aluno\" + str(i) + \" !='None':  lista = Aluno\" + str(i) + \".split(','); lista_nome.append(lista[0]);\")\n",
        "\n",
        "alunos['nome'] = lista_nome\n",
        "alunos['nota'] = np.round(nota,1)\n",
        "print()\n",
        "display(alunos)"
      ],
      "execution_count": null,
      "outputs": [
        {
          "output_type": "stream",
          "name": "stdout",
          "text": [
            "Nota final do trabalho 7.2\n"
          ]
        },
        {
          "output_type": "error",
          "ename": "NameError",
          "evalue": "name 'Aluno1' is not defined",
          "traceback": [
            "\u001b[0;31m---------------------------------------------------------------------------\u001b[0m",
            "\u001b[0;31mNameError\u001b[0m                                 Traceback (most recent call last)",
            "\u001b[0;32m<ipython-input-2-3e81c9545f7e>\u001b[0m in \u001b[0;36m<cell line: 13>\u001b[0;34m()\u001b[0m\n\u001b[1;32m     12\u001b[0m \u001b[0;34m\u001b[0m\u001b[0m\n\u001b[1;32m     13\u001b[0m \u001b[0;32mfor\u001b[0m \u001b[0mi\u001b[0m \u001b[0;32min\u001b[0m \u001b[0mrange\u001b[0m\u001b[0;34m(\u001b[0m\u001b[0;36m1\u001b[0m\u001b[0;34m,\u001b[0m\u001b[0;36m6\u001b[0m\u001b[0;34m)\u001b[0m\u001b[0;34m:\u001b[0m\u001b[0;34m\u001b[0m\u001b[0;34m\u001b[0m\u001b[0m\n\u001b[0;32m---> 14\u001b[0;31m   \u001b[0mexec\u001b[0m\u001b[0;34m(\u001b[0m\u001b[0;34m\"if Aluno\"\u001b[0m \u001b[0;34m+\u001b[0m \u001b[0mstr\u001b[0m\u001b[0;34m(\u001b[0m\u001b[0mi\u001b[0m\u001b[0;34m)\u001b[0m \u001b[0;34m+\u001b[0m \u001b[0;34m\" !='None':  lista = Aluno\"\u001b[0m \u001b[0;34m+\u001b[0m \u001b[0mstr\u001b[0m\u001b[0;34m(\u001b[0m\u001b[0mi\u001b[0m\u001b[0;34m)\u001b[0m \u001b[0;34m+\u001b[0m \u001b[0;34m\".split(','); lista_nome.append(lista[0]);\"\u001b[0m\u001b[0;34m)\u001b[0m\u001b[0;34m\u001b[0m\u001b[0;34m\u001b[0m\u001b[0m\n\u001b[0m\u001b[1;32m     15\u001b[0m \u001b[0;34m\u001b[0m\u001b[0m\n\u001b[1;32m     16\u001b[0m \u001b[0malunos\u001b[0m\u001b[0;34m[\u001b[0m\u001b[0;34m'nome'\u001b[0m\u001b[0;34m]\u001b[0m \u001b[0;34m=\u001b[0m \u001b[0mlista_nome\u001b[0m\u001b[0;34m\u001b[0m\u001b[0;34m\u001b[0m\u001b[0m\n",
            "\u001b[0;32m<string>\u001b[0m in \u001b[0;36m<module>\u001b[0;34m\u001b[0m\n",
            "\u001b[0;31mNameError\u001b[0m: name 'Aluno1' is not defined"
          ]
        }
      ]
    }
  ]
}